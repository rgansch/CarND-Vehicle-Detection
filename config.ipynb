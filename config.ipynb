{
 "cells": [
  {
   "cell_type": "markdown",
   "metadata": {},
   "source": [
    "# ConfigClass\n",
    "[Implementation](./config.py)\n",
    "[Configuration](./ConfigClassTest.ini)\n",
    "\n",
    "The config.ConfigClass is an abstract class to inherit from. By inheriting and calling the super().\\_\\_init\\_\\_() it automatically loads the .ini (ConfigParser format) named after the inherited class into self.\\_config. Config parameters can be changed with set\\_config() from a dictionary or set\\_config\\_item() for a single value.\n",
    "\n",
    "This class construct allows to seperate the pipeline configuration from the class implementation (.py) and experiment in the Jupyter notebooks with different parameter set. Once a satisfactory output is achieved, the configuration is saved to the .ini file for later use in the downstream pipeline.\n",
    "\n",
    "The following code section shows how to use the class and serves as verification for correct behaviour."
   ]
  },
  {
   "cell_type": "code",
   "execution_count": 6,
   "metadata": {
    "collapsed": false
   },
   "outputs": [
    {
     "name": "stdout",
     "output_type": "stream",
     "text": [
      "The autoreload extension is already loaded. To reload it, use:\n",
      "  %reload_ext autoreload\n",
      "Initial config from ConfigClassTest.ini\n",
      "[Section1]\n",
      "item1 = 7\n",
      "[Section2]\n",
      "item2 = 8\n",
      "item3 = test3\n",
      "\n",
      "Modification\n",
      "[Section1]\n",
      "item1 = a\n",
      "[Section2]\n",
      "item2 = Abc\n",
      "item3 = []\n",
      "\n",
      "Unallowed modification (Exception)\n",
      "Section not defined in .ini: [UndefinedSection]\n",
      "\n",
      "Write modified config to ConfigClassTestWrite.ini\n"
     ]
    }
   ],
   "source": [
    "%load_ext autoreload\n",
    "%autoreload 2\n",
    "\n",
    "from config import ConfigClass\n",
    "\n",
    "# Example usage\n",
    "class ConfigClassTest(ConfigClass):\n",
    "    def __init__(self):\n",
    "        super().__init__()\n",
    "    \n",
    "print('Initial config from ConfigClassTest.ini')\n",
    "cfg_test = ConfigClassTest()\n",
    "cfg_test.dump_config()\n",
    "\n",
    "print('\\nModification')\n",
    "cfg_test.set_config_item('Section1', 'item1', 'a')\n",
    "config_dict = {'Section2': {'item2' : 'Abc', 'item3' : []}}\n",
    "cfg_test.set_config(config_dict)\n",
    "cfg_test.dump_config()\n",
    "\n",
    "print('\\nUnallowed modification (Exception)')\n",
    "try:\n",
    "    cfg_test.set_config_item('UndefinedSection', 'item1', 'a')\n",
    "except Exception as inst:\n",
    "    print(inst)\n",
    "    \n",
    "new_config = 'ConfigClassTestWrite.ini'\n",
    "print('\\nWrite modified config to %s' % new_config)\n",
    "cfg_test.write_config(new_config)"
   ]
  }
 ],
 "metadata": {
  "kernelspec": {
   "display_name": "Python 3",
   "language": "python",
   "name": "python3"
  },
  "language_info": {
   "codemirror_mode": {
    "name": "ipython",
    "version": 3
   },
   "file_extension": ".py",
   "mimetype": "text/x-python",
   "name": "python",
   "nbconvert_exporter": "python",
   "pygments_lexer": "ipython3",
   "version": "3.6.0"
  }
 },
 "nbformat": 4,
 "nbformat_minor": 2
}
